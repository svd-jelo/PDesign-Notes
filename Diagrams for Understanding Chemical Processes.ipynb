{
 "cells": [
  {
   "cell_type": "markdown",
   "id": "304252d0",
   "metadata": {},
   "source": [
    "# Diagrams for Understanding Chemical Processes\n",
    "\n",
    "Flow diagrams - a communication tool when dealing with process plants.\n",
    "\n",
    "## Learning Objectives\n",
    "\n",
    "Here I'll be learning about the diagrams for understanding chemical processes, the very first part of my plant design journey. I'll be taking notes from the book *Analysis, Synthesis, and Design of Chemical Processes* by Turton and others; this is Chapter 1 of the book. By the end of this chapter, I should be able to:\n",
    "\n",
    "- Identify the three principal types of diagrams used by process engineers to describe the flow of chemicals in a process\n",
    "- Identify on which of the three diagrams would I expect to see items such as process conditions ($T,P$), control loops, pressure indicator, and pressure-relief valve. So when a problem occurs in the plant, I know which diagram should I refer to.\n",
    "- Identify which diagram should be used to when carrying out analyses such as tray number determination, validating OMBs, etc.\n",
    "- Have an idea of the things that would affect equipment placing.\n",
    "- Explain changes to be made in the three diagrams when last minute changes on the process conditions are made, or when retrofitting (Prob. 11-12).\n",
    "- "
   ]
  }
 ],
 "metadata": {
  "kernelspec": {
   "display_name": "Python 3 (ipykernel)",
   "language": "python",
   "name": "python3"
  },
  "language_info": {
   "codemirror_mode": {
    "name": "ipython",
    "version": 3
   },
   "file_extension": ".py",
   "mimetype": "text/x-python",
   "name": "python",
   "nbconvert_exporter": "python",
   "pygments_lexer": "ipython3",
   "version": "3.9.12"
  }
 },
 "nbformat": 4,
 "nbformat_minor": 5
}
